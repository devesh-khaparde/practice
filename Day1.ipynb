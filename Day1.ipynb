{
 "cells": [
  {
   "cell_type": "markdown",
   "id": "0f21a3f0",
   "metadata": {},
   "source": [
    "## question 1"
   ]
  },
  {
   "cell_type": "code",
   "execution_count": 1,
   "id": "8512d091",
   "metadata": {},
   "outputs": [],
   "source": [
    "num2 = [10,9,2,15,4,8,13,7,6]\n",
    "trgsum = 9"
   ]
  },
  {
   "cell_type": "code",
   "execution_count": 2,
   "id": "9c7844e5",
   "metadata": {},
   "outputs": [],
   "source": [
    "def solution1(num2,trgsum):\n",
    "    hashdict = {}\n",
    "    ans = []\n",
    "    for i, x in enumerate(num2):\n",
    "        res = hashdict.get(trgsum-x,'-')\n",
    "        if res !='-':\n",
    "            ans = [i,res]\n",
    "        else:\n",
    "            hashdict[x]=i\n",
    "    return ans\n"
   ]
  },
  {
   "cell_type": "code",
   "execution_count": 3,
   "id": "969875c7",
   "metadata": {},
   "outputs": [
    {
     "data": {
      "text/plain": [
       "[7, 2]"
      ]
     },
     "execution_count": 3,
     "metadata": {},
     "output_type": "execute_result"
    }
   ],
   "source": [
    "solution1(num2,trgsum)"
   ]
  },
  {
   "cell_type": "markdown",
   "id": "da80f196",
   "metadata": {},
   "source": [
    "## question2\n"
   ]
  },
  {
   "cell_type": "code",
   "execution_count": 4,
   "id": "c85ad479",
   "metadata": {},
   "outputs": [],
   "source": [
    "# num3= [4,5,3,3,13,11,3,56,1,3,2,]\n",
    "num4 = [0,1,2,2,3,0,4,2]\n",
    "var = 2"
   ]
  },
  {
   "cell_type": "code",
   "execution_count": 5,
   "id": "cd82f871",
   "metadata": {
    "scrolled": true
   },
   "outputs": [],
   "source": [
    "def solution2(num4,var):\n",
    "    c = 0\n",
    "    for i, x in enumerate(num4):\n",
    "        if x== var:\n",
    "            c+=1\n",
    "    return len(num4)-c\n"
   ]
  },
  {
   "cell_type": "code",
   "execution_count": 6,
   "id": "6ac407fa",
   "metadata": {},
   "outputs": [
    {
     "data": {
      "text/plain": [
       "5"
      ]
     },
     "execution_count": 6,
     "metadata": {},
     "output_type": "execute_result"
    }
   ],
   "source": [
    "solution2(num4,var)"
   ]
  },
  {
   "cell_type": "markdown",
   "id": "9da4a09b",
   "metadata": {},
   "source": [
    "## question3"
   ]
  },
  {
   "cell_type": "code",
   "execution_count": 7,
   "id": "7a41498b",
   "metadata": {},
   "outputs": [],
   "source": [
    "nums = [-4,-2,6,7,9,12,34,54,90]\n",
    "trg = 8\n"
   ]
  },
  {
   "cell_type": "code",
   "execution_count": 8,
   "id": "6a42c82e",
   "metadata": {},
   "outputs": [],
   "source": [
    "def solution3(nums,trg):\n",
    "    left = 0\n",
    "    right =len(nums)-1\n",
    "    while(left<=right):\n",
    "        mid =int((left+right)/2)\n",
    "        if nums[mid]==trg:\n",
    "            return mid\n",
    "        elif trg> nums[mid]:\n",
    "            left = mid+1\n",
    "        else:\n",
    "            right = mid-1\n",
    "            \n",
    "    return right+1"
   ]
  },
  {
   "cell_type": "code",
   "execution_count": 9,
   "id": "ec131c7c",
   "metadata": {},
   "outputs": [
    {
     "data": {
      "text/plain": [
       "4"
      ]
     },
     "execution_count": 9,
     "metadata": {},
     "output_type": "execute_result"
    }
   ],
   "source": [
    "solution3(nums,trg)"
   ]
  },
  {
   "cell_type": "markdown",
   "id": "bc77e102",
   "metadata": {},
   "source": [
    "## question4:"
   ]
  },
  {
   "cell_type": "code",
   "execution_count": 10,
   "id": "5608feea",
   "metadata": {},
   "outputs": [],
   "source": [
    "num5 = [9,9,9,9]"
   ]
  },
  {
   "cell_type": "code",
   "execution_count": 11,
   "id": "b348df96",
   "metadata": {},
   "outputs": [],
   "source": [
    "def solution4(num5):\n",
    "    carry = 0\n",
    "    numlen = len(num5)-1\n",
    "    for i, x in enumerate(num5[::-1]):\n",
    "        if x==9:\n",
    "            num5[numlen-i]=0\n",
    "            carry=1\n",
    "        else:\n",
    "            if i==0:\n",
    "                tmp = num5[numlen-i]+1 + carry\n",
    "            else:\n",
    "                tmp = num5[numlen-i] + carry\n",
    "            if tmp==9:\n",
    "                num5[numlen-i]=0\n",
    "                carry = 1\n",
    "            else:\n",
    "                num5[numlen-i]=tmp\n",
    "                carry=0\n",
    "    if carry==1:\n",
    "        num5.insert(0,1)\n",
    "    return num5\n",
    "        \n",
    "        \n",
    "        "
   ]
  },
  {
   "cell_type": "code",
   "execution_count": 12,
   "id": "f9b17ce1",
   "metadata": {},
   "outputs": [
    {
     "data": {
      "text/plain": [
       "[1, 0, 0, 0, 0]"
      ]
     },
     "execution_count": 12,
     "metadata": {},
     "output_type": "execute_result"
    }
   ],
   "source": [
    "solution4(num5)"
   ]
  },
  {
   "cell_type": "markdown",
   "id": "c0e3a80f",
   "metadata": {},
   "source": [
    "## question5"
   ]
  },
  {
   "cell_type": "code",
   "execution_count": 13,
   "id": "59da65f8",
   "metadata": {},
   "outputs": [],
   "source": [
    "num1 =[1,2,3,0,0,0]\n",
    "num2 = [2,5,6]\n",
    "m = 3\n",
    "n = 3"
   ]
  },
  {
   "cell_type": "code",
   "execution_count": 14,
   "id": "b27494bb",
   "metadata": {},
   "outputs": [],
   "source": [
    "def solution5(num1,num2,m,n):\n",
    "    i = m-1\n",
    "    j = n-1\n",
    "    k =m+n-1\n",
    "    while(i>=0 and j>=0):\n",
    "        if num1[i]>=num2[j]:\n",
    "            num1[k]=num1[i]\n",
    "            i-=1\n",
    "        else:\n",
    "            num1[k]=num2[j]\n",
    "            j-=1\n",
    "        k-=1\n",
    "    while(j>=0):\n",
    "        num1[k]=num2[j]\n",
    "        j-=1\n",
    "    return num1"
   ]
  },
  {
   "cell_type": "code",
   "execution_count": 15,
   "id": "3792e92e",
   "metadata": {},
   "outputs": [
    {
     "data": {
      "text/plain": [
       "[1, 2, 2, 3, 5, 6]"
      ]
     },
     "execution_count": 15,
     "metadata": {},
     "output_type": "execute_result"
    }
   ],
   "source": [
    "solution5(num1,num2,m,n)"
   ]
  },
  {
   "cell_type": "markdown",
   "id": "7e254308",
   "metadata": {},
   "source": [
    "## question6"
   ]
  },
  {
   "cell_type": "code",
   "execution_count": 16,
   "id": "bba1bce4",
   "metadata": {},
   "outputs": [],
   "source": [
    "num = [1,2,5,8,9]"
   ]
  },
  {
   "cell_type": "code",
   "execution_count": 17,
   "id": "14f5944c",
   "metadata": {},
   "outputs": [],
   "source": [
    "def solution6(num):\n",
    "    dict = {}\n",
    "    res = False\n",
    "    for x in num:\n",
    "        if dict.get(x,'N')=='Y':\n",
    "            res=True\n",
    "            break\n",
    "        else:\n",
    "            dict[x]='Y'\n",
    "    return res  "
   ]
  },
  {
   "cell_type": "code",
   "execution_count": 18,
   "id": "d64bd6db",
   "metadata": {},
   "outputs": [
    {
     "data": {
      "text/plain": [
       "False"
      ]
     },
     "execution_count": 18,
     "metadata": {},
     "output_type": "execute_result"
    }
   ],
   "source": [
    "solution6(num)"
   ]
  },
  {
   "cell_type": "markdown",
   "id": "fb03fd08",
   "metadata": {},
   "source": [
    "## question7"
   ]
  },
  {
   "cell_type": "code",
   "execution_count": 19,
   "id": "e1bbecae",
   "metadata": {},
   "outputs": [],
   "source": [
    "num = [2,1,0,3,4,5,0,7]"
   ]
  },
  {
   "cell_type": "code",
   "execution_count": 20,
   "id": "f5c256d5",
   "metadata": {},
   "outputs": [],
   "source": [
    "def solution7(num):\n",
    "    count=0\n",
    "    for i in range(len(num)):\n",
    "        if num[i]!=0:\n",
    "            num[count]=num[i]\n",
    "            count+=1\n",
    "    while(count<len(num)):\n",
    "        num[count]=0\n",
    "        count+=1\n",
    "    return num\n"
   ]
  },
  {
   "cell_type": "code",
   "execution_count": 21,
   "id": "71c708f3",
   "metadata": {},
   "outputs": [
    {
     "data": {
      "text/plain": [
       "[2, 1, 3, 4, 5, 7, 0, 0]"
      ]
     },
     "execution_count": 21,
     "metadata": {},
     "output_type": "execute_result"
    }
   ],
   "source": [
    "solution7(num)"
   ]
  },
  {
   "cell_type": "markdown",
   "id": "45b88528",
   "metadata": {},
   "source": [
    "## question8"
   ]
  },
  {
   "cell_type": "code",
   "execution_count": 22,
   "id": "22d9a870",
   "metadata": {},
   "outputs": [],
   "source": [
    "num=[2,5,7,6,4,1,5]"
   ]
  },
  {
   "cell_type": "code",
   "execution_count": 23,
   "id": "593e3e48",
   "metadata": {},
   "outputs": [],
   "source": [
    "def solution8(num):\n",
    "    dict = {}\n",
    "    res = False\n",
    "    for x in num:\n",
    "        if dict.get(x,'N')=='Y':\n",
    "            res=x        \n",
    "        else:\n",
    "            dict[x]='Y'\n",
    "    for x in range(1,len(num)+1):\n",
    "        if dict.get(x,'N')=='N':\n",
    "            res2=x \n",
    "    return [res,res2]"
   ]
  },
  {
   "cell_type": "code",
   "execution_count": 24,
   "id": "93f59612",
   "metadata": {},
   "outputs": [
    {
     "data": {
      "text/plain": [
       "[5, 3]"
      ]
     },
     "execution_count": 24,
     "metadata": {},
     "output_type": "execute_result"
    }
   ],
   "source": [
    "solution8(num)"
   ]
  },
  {
   "cell_type": "code",
   "execution_count": null,
   "id": "dc079cbe",
   "metadata": {},
   "outputs": [],
   "source": []
  }
 ],
 "metadata": {
  "kernelspec": {
   "display_name": "Python 3 (ipykernel)",
   "language": "python",
   "name": "python3"
  },
  "language_info": {
   "codemirror_mode": {
    "name": "ipython",
    "version": 3
   },
   "file_extension": ".py",
   "mimetype": "text/x-python",
   "name": "python",
   "nbconvert_exporter": "python",
   "pygments_lexer": "ipython3",
   "version": "3.9.12"
  }
 },
 "nbformat": 4,
 "nbformat_minor": 5
}
