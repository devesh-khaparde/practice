{
 "cells": [
  {
   "cell_type": "code",
   "execution_count": 1,
   "id": "949dc6f7",
   "metadata": {},
   "outputs": [],
   "source": [
    "import pandas as pd\n",
    "import numpy as np"
   ]
  },
  {
   "cell_type": "markdown",
   "id": "df3e53a3",
   "metadata": {},
   "source": [
    "1. Write a Python program to reverse a string without using any built-in string reversal functions."
   ]
  },
  {
   "cell_type": "code",
   "execution_count": 2,
   "id": "a5657abd",
   "metadata": {},
   "outputs": [
    {
     "name": "stdout",
     "output_type": "stream",
     "text": [
      "POIUYTREWQ\n"
     ]
    }
   ],
   "source": [
    "a = 'QWERTYUIOP'\n",
    "print(a[::-1])"
   ]
  },
  {
   "cell_type": "markdown",
   "id": "46655a84",
   "metadata": {},
   "source": [
    "2. Implement a function to check if a given string is a palindrome."
   ]
  },
  {
   "cell_type": "code",
   "execution_count": 3,
   "id": "e0712467",
   "metadata": {},
   "outputs": [
    {
     "name": "stdout",
     "output_type": "stream",
     "text": [
      "naman is Palindrome\n"
     ]
    }
   ],
   "source": [
    "def check_Palindrome(str1):\n",
    "    if str1 == str1[::-1]:\n",
    "        print(f\"{str1} is Palindrome\")\n",
    "    else:\n",
    "        print(f\"{str1} is Not Palindrome\")\n",
    "\n",
    "check_Palindrome('naman')"
   ]
  },
  {
   "cell_type": "markdown",
   "id": "b86b6b95",
   "metadata": {},
   "source": [
    "3. Write a program to find the largest element in a given list."
   ]
  },
  {
   "cell_type": "code",
   "execution_count": 4,
   "id": "6af98c5f",
   "metadata": {},
   "outputs": [
    {
     "name": "stdout",
     "output_type": "stream",
     "text": [
      "9\n",
      "9\n"
     ]
    }
   ],
   "source": [
    "i =[2,5,7,3,9,4]\n",
    "\n",
    "i.sort()\n",
    "print(i[-1])\n",
    "#or\n",
    "print(max(i))"
   ]
  },
  {
   "cell_type": "markdown",
   "id": "2ebea8a7",
   "metadata": {},
   "source": [
    "4. Implement a function to count the occurrence of each element in a list."
   ]
  },
  {
   "cell_type": "code",
   "execution_count": 5,
   "id": "99e9fc24",
   "metadata": {
    "scrolled": true
   },
   "outputs": [
    {
     "name": "stdout",
     "output_type": "stream",
     "text": [
      "{1: 1, 2: 2, 3: 4, 4: 1, 5: 1, 7: 2, 9: 1}\n"
     ]
    }
   ],
   "source": [
    "i =[2,3,5,7,3,2,1,3,3,9,7,4]\n",
    "i.sort()\n",
    "dict={}\n",
    "for e in i:\n",
    "    if dict.get(e,'-')!='-':\n",
    "        dict[e]=dict[e]+1\n",
    "    else:\n",
    "        dict[e]=1\n",
    "        \n",
    "print(dict)"
   ]
  },
  {
   "cell_type": "markdown",
   "id": "c380c1eb",
   "metadata": {},
   "source": [
    "5. Write a Python program to find the second largest number in a list."
   ]
  },
  {
   "cell_type": "code",
   "execution_count": 6,
   "id": "e8a678e9",
   "metadata": {},
   "outputs": [
    {
     "name": "stdout",
     "output_type": "stream",
     "text": [
      "7\n"
     ]
    }
   ],
   "source": [
    "i =[2,5,7,3,9,4]\n",
    "\n",
    "i.sort()\n",
    "print(i[-2])"
   ]
  },
  {
   "cell_type": "markdown",
   "id": "b5aa687c",
   "metadata": {},
   "source": [
    "6. Implement a function to remove duplicate elements from a list."
   ]
  },
  {
   "cell_type": "code",
   "execution_count": 7,
   "id": "a3a22b73",
   "metadata": {
    "scrolled": false
   },
   "outputs": [
    {
     "name": "stdout",
     "output_type": "stream",
     "text": [
      "[1, 2, 3, 4, 5, 7, 9]\n",
      "[2, 3, 5, 7, 1, 9, 4]\n"
     ]
    }
   ],
   "source": [
    "i =[2,3,5,7,3,2,1,3,3,9,7,4]\n",
    "print(list(set(i)))\n",
    "#or\n",
    "unique=[]\n",
    "for e in i:\n",
    "    if e not in unique:\n",
    "        unique.append(e)\n",
    "print(unique)"
   ]
  },
  {
   "cell_type": "markdown",
   "id": "0f6da5cc",
   "metadata": {},
   "source": [
    "7. Write a program to calculate the factorial of a given number."
   ]
  },
  {
   "cell_type": "code",
   "execution_count": 8,
   "id": "76b8b1c7",
   "metadata": {},
   "outputs": [
    {
     "name": "stdout",
     "output_type": "stream",
     "text": [
      "120\n"
     ]
    }
   ],
   "source": [
    "def get_fac(x):\n",
    "    fac = 1\n",
    "    for i in range(x):\n",
    "        fac=fac*(i+1)\n",
    "    return fac\n",
    "\n",
    "        \n",
    "print(get_fac(5))"
   ]
  },
  {
   "cell_type": "markdown",
   "id": "320b69c3",
   "metadata": {},
   "source": [
    "8. Implement a function to check if a given number is prime."
   ]
  },
  {
   "cell_type": "code",
   "execution_count": 9,
   "id": "b60a6c77",
   "metadata": {},
   "outputs": [
    {
     "data": {
      "text/plain": [
       "False"
      ]
     },
     "execution_count": 9,
     "metadata": {},
     "output_type": "execute_result"
    }
   ],
   "source": [
    "def check_prime(x):\n",
    "    if x <= 1:\n",
    "        return False\n",
    "    for i in range(2, int(x**0.5)+1):\n",
    "        if x % i == 0:\n",
    "            return False\n",
    "    return True\n",
    "check_prime(45)"
   ]
  },
  {
   "cell_type": "markdown",
   "id": "f5623007",
   "metadata": {},
   "source": [
    "9. Write a Python program to sort a list of integers in ascending order."
   ]
  },
  {
   "cell_type": "code",
   "execution_count": 10,
   "id": "20998843",
   "metadata": {},
   "outputs": [
    {
     "data": {
      "text/plain": [
       "[1, 2, 2, 3, 3, 3, 3, 4, 5, 7, 7, 9]"
      ]
     },
     "execution_count": 10,
     "metadata": {},
     "output_type": "execute_result"
    }
   ],
   "source": [
    "i =[2,3,5,7,3,2,1,3,3,9,7,4]\n",
    "i.sort()\n",
    "i"
   ]
  },
  {
   "cell_type": "markdown",
   "id": "0f2ef4e0",
   "metadata": {},
   "source": [
    "10. Implement a function to find the sum of all numbers in a list."
   ]
  },
  {
   "cell_type": "code",
   "execution_count": 11,
   "id": "5a0ccde6",
   "metadata": {},
   "outputs": [
    {
     "name": "stdout",
     "output_type": "stream",
     "text": [
      "42\n"
     ]
    }
   ],
   "source": [
    "def get_sum(x):\n",
    "    sum = 0\n",
    "    for i in x:\n",
    "        sum=sum+i\n",
    "    return sum\n",
    "\n",
    "i =[2,3,5,7,3,2,1,3,3,9,4]   \n",
    "print(get_sum(i))"
   ]
  },
  {
   "cell_type": "markdown",
   "id": "8e6319f7",
   "metadata": {},
   "source": [
    "11. Write a program to find the common elements between two lists."
   ]
  },
  {
   "cell_type": "code",
   "execution_count": 12,
   "id": "887d2f19",
   "metadata": {},
   "outputs": [
    {
     "data": {
      "text/plain": [
       "[2, 3, 4, 45, 6]"
      ]
     },
     "execution_count": 12,
     "metadata": {},
     "output_type": "execute_result"
    }
   ],
   "source": [
    "a = [1,2,3,4,45,6,7]\n",
    "b=  [2,3,6,4,8,6,45]\n",
    "[x for x in a if x in b]"
   ]
  },
  {
   "cell_type": "markdown",
   "id": "48405657",
   "metadata": {},
   "source": [
    "12. Implement a function to check if a given string is an anagram of another string."
   ]
  },
  {
   "cell_type": "code",
   "execution_count": 13,
   "id": "8525c88b",
   "metadata": {},
   "outputs": [
    {
     "data": {
      "text/plain": [
       "True"
      ]
     },
     "execution_count": 13,
     "metadata": {},
     "output_type": "execute_result"
    }
   ],
   "source": [
    "x = 'plmqaz'\n",
    "y = 'pqlamz'\n",
    "def check_anagram(x,y):\n",
    "    return list(x).sort()==list(y).sort()\n",
    "check_anagram(x,y)"
   ]
  },
  {
   "cell_type": "markdown",
   "id": "0b4e00a0",
   "metadata": {},
   "source": [
    "13. Write a Python program to generate all permutations of a given string."
   ]
  },
  {
   "cell_type": "code",
   "execution_count": 14,
   "id": "b6eebfa8",
   "metadata": {},
   "outputs": [
    {
     "name": "stdout",
     "output_type": "stream",
     "text": [
      "abcd\n",
      "abdc\n",
      "acbd\n",
      "acdb\n",
      "adcb\n",
      "adbc\n",
      "bacd\n",
      "badc\n",
      "bcad\n",
      "bcda\n",
      "bdca\n",
      "bdac\n",
      "cbad\n",
      "cbda\n",
      "cabd\n",
      "cadb\n",
      "cdab\n",
      "cdba\n",
      "dbca\n",
      "dbac\n",
      "dcba\n",
      "dcab\n",
      "dacb\n",
      "dabc\n"
     ]
    }
   ],
   "source": [
    "def permute(data, i, length): \n",
    "    if i==length: \n",
    "        print(''.join(data) )\n",
    "    else: \n",
    "        for j in range(i,length): \n",
    "            #swap\n",
    "            data[i], data[j] = data[j], data[i] \n",
    "            permute(data, i+1, length) \n",
    "            data[i], data[j] = data[j], data[i]  \n",
    "  \n",
    "\n",
    "x = 'abcd'\n",
    "n = len(x) \n",
    "data = list(x) \n",
    "permute(data, 0, n)"
   ]
  },
  {
   "cell_type": "markdown",
   "id": "3cdbe04b",
   "metadata": {},
   "source": [
    "14. Implement a function to calculate the Fibonacci sequence up to a given number of terms."
   ]
  },
  {
   "cell_type": "code",
   "execution_count": 15,
   "id": "d2b85e10",
   "metadata": {},
   "outputs": [
    {
     "name": "stdout",
     "output_type": "stream",
     "text": [
      "[0, 1, 1, 2, 3, 5, 8, 13, 21, 34]\n"
     ]
    }
   ],
   "source": [
    "def fibonacci(n):\n",
    "    sequence = [0, 1]\n",
    "    for i in range(2, n):\n",
    "        next_term = sequence[i-1] + sequence[i-2]\n",
    "        sequence.append(next_term)\n",
    "    return sequence\n",
    "\n",
    "\n",
    "num_terms = 10\n",
    "fib_seq = fibonacci(num_terms)\n",
    "print(fib_seq)"
   ]
  },
  {
   "cell_type": "markdown",
   "id": "7d74fd7a",
   "metadata": {},
   "source": [
    "15. Write a program to find the median of a list of numbers."
   ]
  },
  {
   "cell_type": "code",
   "execution_count": 16,
   "id": "3abd25b6",
   "metadata": {
    "scrolled": true
   },
   "outputs": [
    {
     "data": {
      "text/plain": [
       "7.5"
      ]
     },
     "execution_count": 16,
     "metadata": {},
     "output_type": "execute_result"
    }
   ],
   "source": [
    "a = [1,22,33,65,7,8,7,1]\n",
    "l = len(a)\n",
    "a.sort()\n",
    "if l/2 ==l//2:\n",
    "    m=(a[(l//2)-1]+a[-l//2])/2\n",
    "else:\n",
    "    m=a[l//2]\n",
    "m"
   ]
  },
  {
   "cell_type": "markdown",
   "id": "eeae106d",
   "metadata": {},
   "source": [
    "16. Implement a function to check if a given list is sorted in non-decreasing order."
   ]
  },
  {
   "cell_type": "code",
   "execution_count": 17,
   "id": "590ccb72",
   "metadata": {},
   "outputs": [
    {
     "data": {
      "text/plain": [
       "True"
      ]
     },
     "execution_count": 17,
     "metadata": {},
     "output_type": "execute_result"
    }
   ],
   "source": [
    "x = [100,52,33,25,17,8,7,1]\n",
    "\n",
    "def check_desc_sort(x):\n",
    "    return True if x==sorted(x,reverse=True) else False\n",
    "\n",
    "check_desc_sort(x)"
   ]
  },
  {
   "cell_type": "markdown",
   "id": "c1014b60",
   "metadata": {},
   "source": [
    "17. Write a Python program to find the intersection of two lists."
   ]
  },
  {
   "cell_type": "code",
   "execution_count": 18,
   "id": "d0ded158",
   "metadata": {},
   "outputs": [
    {
     "name": "stdout",
     "output_type": "stream",
     "text": [
      "[2, 3, 4, 45, 6]\n",
      "[2, 3, 4, 6, 45]\n"
     ]
    }
   ],
   "source": [
    "a = [1,2,3,4,45,6,7]\n",
    "b=  [2,3,6,4,8,6,45]\n",
    "print([x for x in a if x in b])\n",
    "# OR\n",
    "print(list(set(a) & set(b)))\n"
   ]
  },
  {
   "cell_type": "markdown",
   "id": "49407d4e",
   "metadata": {},
   "source": [
    "18. Implement a function to find the maximum subarray sum in a given list."
   ]
  },
  {
   "cell_type": "code",
   "execution_count": 19,
   "id": "8644bed7",
   "metadata": {},
   "outputs": [
    {
     "data": {
      "text/plain": [
       "9"
      ]
     },
     "execution_count": 19,
     "metadata": {},
     "output_type": "execute_result"
    }
   ],
   "source": [
    "lst = [1, -2, 3, 4, -1, 2, 1, -5, 4]\n",
    "\n",
    "max_sum = current_sum = lst[0]\n",
    "for num in lst[1:]:\n",
    "    current_sum = max(num, current_sum + num)\n",
    "    max_sum = max(max_sum, current_sum)\n",
    "max_sum"
   ]
  },
  {
   "cell_type": "markdown",
   "id": "9f0ab3c8",
   "metadata": {},
   "source": [
    "19. Write a program to remove all vowels from a given string."
   ]
  },
  {
   "cell_type": "code",
   "execution_count": 20,
   "id": "96c93934",
   "metadata": {},
   "outputs": [
    {
     "data": {
      "text/plain": [
       "'qrdtyghm'"
      ]
     },
     "execution_count": 20,
     "metadata": {},
     "output_type": "execute_result"
    }
   ],
   "source": [
    "x = 'qardtyghoim'\n",
    "\"\".join([c for c in list(x) if c not in \"aeiouAEIOU\"])"
   ]
  },
  {
   "cell_type": "markdown",
   "id": "b58539de",
   "metadata": {},
   "source": [
    "20. Implement a function to reverse the order of words in a given sentence."
   ]
  },
  {
   "cell_type": "code",
   "execution_count": 21,
   "id": "044cda6d",
   "metadata": {},
   "outputs": [
    {
     "data": {
      "text/plain": [
       "'input as it use to sentence this writing am I'"
      ]
     },
     "execution_count": 21,
     "metadata": {},
     "output_type": "execute_result"
    }
   ],
   "source": [
    "sen = 'I am writing this sentence to use it as input'\n",
    "def reverse_sentence(sen):\n",
    "    slist = sen.split(\" \")\n",
    "    return \" \".join(slist[::-1])\n",
    "\n",
    "reverse_sentence(sen)"
   ]
  },
  {
   "cell_type": "markdown",
   "id": "1359ac0d",
   "metadata": {},
   "source": [
    "21. Write a Python program to check if two strings are anagrams of each other."
   ]
  },
  {
   "cell_type": "code",
   "execution_count": 22,
   "id": "cf27de42",
   "metadata": {},
   "outputs": [
    {
     "data": {
      "text/plain": [
       "True"
      ]
     },
     "execution_count": 22,
     "metadata": {},
     "output_type": "execute_result"
    }
   ],
   "source": [
    "x = 'plmqaz'\n",
    "y = 'pqlamz'\n",
    "def check_anagram(x,y):\n",
    "    return list(x).sort()==list(y).sort()\n",
    "check_anagram(x,y)"
   ]
  },
  {
   "cell_type": "markdown",
   "id": "862c95eb",
   "metadata": {},
   "source": [
    "22. Implement a function to find the first non-repeating character in a string."
   ]
  },
  {
   "cell_type": "code",
   "execution_count": 23,
   "id": "96f6ead8",
   "metadata": {},
   "outputs": [
    {
     "data": {
      "text/plain": [
       "'r'"
      ]
     },
     "execution_count": 23,
     "metadata": {},
     "output_type": "execute_result"
    }
   ],
   "source": [
    "def ret_first_char(x):\n",
    "    return [c for i, c in enumerate(x) if c not in list(x[i+1:])+list(x[:i])][0]\n",
    "\n",
    "x ='appraisal'\n",
    "ret_first_char(x)"
   ]
  },
  {
   "cell_type": "markdown",
   "id": "a65929bd",
   "metadata": {},
   "source": [
    "23. Write a program to find the prime factors of a given number."
   ]
  },
  {
   "cell_type": "code",
   "execution_count": 24,
   "id": "3863d9ca",
   "metadata": {},
   "outputs": [
    {
     "name": "stdout",
     "output_type": "stream",
     "text": [
      "[2, 2, 3, 5]\n"
     ]
    }
   ],
   "source": [
    "def prime_factors(n):\n",
    "    factors = []\n",
    "    i = 2\n",
    "    while i <= n:\n",
    "        if n % i == 0:\n",
    "            factors.append(i)\n",
    "            n = n // i\n",
    "        else:\n",
    "            i += 1\n",
    "    return factors\n",
    "\n",
    "number = 60\n",
    "factors = prime_factors(number)\n",
    "print(factors)"
   ]
  },
  {
   "cell_type": "markdown",
   "id": "9eef9acb",
   "metadata": {},
   "source": [
    "24. Implement a function to check if a given number is a power of two."
   ]
  },
  {
   "cell_type": "code",
   "execution_count": 25,
   "id": "b7b0bb5f",
   "metadata": {},
   "outputs": [
    {
     "name": "stdout",
     "output_type": "stream",
     "text": [
      "True\n"
     ]
    }
   ],
   "source": [
    "def is_power_of_two(n):\n",
    "    if n <= 0:\n",
    "        return False\n",
    "    while n % 2 == 0:\n",
    "        n = n // 2\n",
    "    return n == 1\n",
    "\n",
    "\n",
    "number = 16\n",
    "print(is_power_of_two(number))"
   ]
  },
  {
   "cell_type": "markdown",
   "id": "951d39f9",
   "metadata": {},
   "source": [
    "25. Write a Python program to merge two sorted lists into a single sorted list."
   ]
  },
  {
   "cell_type": "code",
   "execution_count": 26,
   "id": "4e8fb19d",
   "metadata": {},
   "outputs": [
    {
     "name": "stdout",
     "output_type": "stream",
     "text": [
      "[1, 2, 3, 4, 5, 6, 7, 8]\n"
     ]
    }
   ],
   "source": [
    "def merge_sorted_lists(list1, list2):\n",
    "    merged_list = []\n",
    "    i = j = 0\n",
    "    while i < len(list1) and j < len(list2):\n",
    "        if list1[i] <= list2[j]:\n",
    "            merged_list.append(list1[i])\n",
    "            i += 1\n",
    "        else:\n",
    "            merged_list.append(list2[j])\n",
    "            j += 1\n",
    "    while i < len(list1):\n",
    "        merged_list.append(list1[i])\n",
    "        i += 1\n",
    "    while j < len(list2):\n",
    "        merged_list.append(list2[j])\n",
    "        j += 1\n",
    "    return merged_list\n",
    "\n",
    "\n",
    "list1 = [1, 3, 5, 7]\n",
    "list2 = [2, 4, 6, 8]\n",
    "merged_list = merge_sorted_lists(list1, list2)\n",
    "print(merged_list)"
   ]
  },
  {
   "cell_type": "markdown",
   "id": "076e0135",
   "metadata": {},
   "source": [
    "26. Implement a function to find the mode of a list of numbers."
   ]
  },
  {
   "cell_type": "code",
   "execution_count": 27,
   "id": "818fdb7d",
   "metadata": {},
   "outputs": [
    {
     "name": "stdout",
     "output_type": "stream",
     "text": [
      "[3]\n"
     ]
    }
   ],
   "source": [
    "from collections import Counter\n",
    "\n",
    "def find_mode(lst):\n",
    "    counts = Counter(lst)\n",
    "    max_count = max(counts.values())\n",
    "    mode = [num for num, count in counts.items() if count == max_count]\n",
    "    return mode\n",
    "\n",
    "\n",
    "lst = [1, 2, 2, 3, 3, 3, 4, 5]\n",
    "mode = find_mode(lst)\n",
    "print(mode)"
   ]
  },
  {
   "cell_type": "markdown",
   "id": "0da18b50",
   "metadata": {},
   "source": [
    "27. Write a program to find the greatest common divisor (GCD) of two numbers."
   ]
  },
  {
   "cell_type": "code",
   "execution_count": 28,
   "id": "d95abc10",
   "metadata": {},
   "outputs": [
    {
     "name": "stdout",
     "output_type": "stream",
     "text": [
      "12\n"
     ]
    }
   ],
   "source": [
    "def gcd(a, b):\n",
    "    while b != 0:\n",
    "        a, b = b, a % b\n",
    "    return a\n",
    "\n",
    "\n",
    "num1 = 24\n",
    "num2 = 36\n",
    "gcd_value = gcd(num1, num2)\n",
    "print(gcd_value) \n"
   ]
  },
  {
   "cell_type": "markdown",
   "id": "63fa39ff",
   "metadata": {},
   "source": [
    "28. Implement a function to calculate the square root of a given number."
   ]
  },
  {
   "cell_type": "code",
   "execution_count": 29,
   "id": "c9a9ae9b",
   "metadata": {},
   "outputs": [
    {
     "name": "stdout",
     "output_type": "stream",
     "text": [
      "5.0\n"
     ]
    }
   ],
   "source": [
    "def square_root(n):\n",
    "    if n < 0:\n",
    "        raise ValueError(\"Cannot calculate square root of a negative number\")\n",
    "    guess = n\n",
    "    while True:\n",
    "        new_guess = (guess + n / guess) / 2\n",
    "        if abs(new_guess - guess) < 1e-6:\n",
    "            return new_guess\n",
    "        guess = new_guess\n",
    "\n",
    "\n",
    "number = 25\n",
    "sqrt = square_root(number)\n",
    "print(sqrt) \n"
   ]
  },
  {
   "cell_type": "markdown",
   "id": "566940e3",
   "metadata": {},
   "source": [
    "29. Write a Python program to check if a given string is a valid palindrome ignoring non-alphanumeric characters."
   ]
  },
  {
   "cell_type": "code",
   "execution_count": 30,
   "id": "afaea3ac",
   "metadata": {},
   "outputs": [
    {
     "name": "stdout",
     "output_type": "stream",
     "text": [
      "True\n"
     ]
    }
   ],
   "source": [
    "import re\n",
    "\n",
    "def is_valid_palindrome(string):\n",
    "    alphanumeric_string = re.sub(r'\\W+', '', string.lower())\n",
    "    return alphanumeric_string == alphanumeric_string[::-1]\n",
    "\n",
    "\n",
    "string = \"A man, a plan, a canal: Panama\"\n",
    "print(is_valid_palindrome(string))\n"
   ]
  },
  {
   "cell_type": "markdown",
   "id": "b8a0b56b",
   "metadata": {},
   "source": [
    "30. Implement a function to find the minimum element in a rotated sorted list."
   ]
  },
  {
   "cell_type": "code",
   "execution_count": 31,
   "id": "d646e463",
   "metadata": {},
   "outputs": [
    {
     "name": "stdout",
     "output_type": "stream",
     "text": [
      "0\n"
     ]
    }
   ],
   "source": [
    "def find_min_rotated(lst):\n",
    "    start, end = 0, len(lst) - 1\n",
    "    while start < end:\n",
    "        mid = (start + end) // 2\n",
    "        if lst[mid] > lst[end]:\n",
    "            start = mid + 1\n",
    "        else:\n",
    "            end = mid\n",
    "    return lst[start]\n",
    "\n",
    "lst = [4, 5, 6, 7, 0, 1, 2]\n",
    "min_element = find_min_rotated(lst)\n",
    "print(min_element)"
   ]
  },
  {
   "cell_type": "markdown",
   "id": "1985a81b",
   "metadata": {},
   "source": [
    "31. Write a program to find the sum of all even numbers in a list."
   ]
  },
  {
   "cell_type": "code",
   "execution_count": 32,
   "id": "31fc27ff",
   "metadata": {},
   "outputs": [
    {
     "name": "stdout",
     "output_type": "stream",
     "text": [
      "12\n"
     ]
    }
   ],
   "source": [
    "def sum_of_even_numbers(lst):\n",
    "    return sum(num for num in lst if num % 2 == 0)\n",
    "\n",
    "\n",
    "lst = [1, 2, 3, 4, 5, 6]\n",
    "sum_even = sum_of_even_numbers(lst)\n",
    "print(sum_even)\n"
   ]
  },
  {
   "cell_type": "markdown",
   "id": "2131cc1f",
   "metadata": {},
   "source": [
    "32. Implement a function to calculate the power of a number using recursion."
   ]
  },
  {
   "cell_type": "code",
   "execution_count": 33,
   "id": "f289fccd",
   "metadata": {},
   "outputs": [
    {
     "name": "stdout",
     "output_type": "stream",
     "text": [
      "8\n"
     ]
    }
   ],
   "source": [
    "def power(base, exponent):\n",
    "    if exponent == 0:\n",
    "        return 1\n",
    "    elif exponent > 0:\n",
    "        return base * power(base, exponent - 1)\n",
    "    else:\n",
    "        return 1 / (base * power(base, -exponent - 1))\n",
    "\n",
    "\n",
    "base = 2\n",
    "exponent = 3\n",
    "result = power(base, exponent)\n",
    "print(result) "
   ]
  },
  {
   "cell_type": "markdown",
   "id": "cd49668d",
   "metadata": {},
   "source": [
    "33. Write a Python program to remove duplicates from a list while preserving the order."
   ]
  },
  {
   "cell_type": "code",
   "execution_count": 34,
   "id": "0224b49a",
   "metadata": {},
   "outputs": [
    {
     "name": "stdout",
     "output_type": "stream",
     "text": [
      "[1, 2, 3, 4, 5]\n"
     ]
    }
   ],
   "source": [
    "def remove_duplicates(lst):\n",
    "    seen = set()\n",
    "    return [x for x in lst if not (x in seen or seen.add(x))]\n",
    "\n",
    "\n",
    "lst = [1, 2, 3, 2, 1, 3, 4, 2, 5]\n",
    "unique_list = remove_duplicates(lst)\n",
    "print(unique_list) "
   ]
  },
  {
   "cell_type": "markdown",
   "id": "0c95a50b",
   "metadata": {},
   "source": [
    "34. Implement a function to find the longest common prefix among a list of strings."
   ]
  },
  {
   "cell_type": "code",
   "execution_count": 35,
   "id": "1d6a7420",
   "metadata": {},
   "outputs": [
    {
     "name": "stdout",
     "output_type": "stream",
     "text": [
      "fl\n"
     ]
    }
   ],
   "source": [
    "def longest_common_prefix(strings):\n",
    "    if not strings:\n",
    "        return \"\"\n",
    "    min_length = min(len(s) for s in strings)\n",
    "    prefix = \"\"\n",
    "    for i in range(min_length):\n",
    "        if all(s[i] == strings[0][i] for s in strings):\n",
    "            prefix += strings[0][i]\n",
    "        else:\n",
    "            break\n",
    "    return prefix\n",
    "\n",
    "\n",
    "strings = [\"flower\", \"flow\", \"flight\"]\n",
    "common_prefix = longest_common_prefix(strings)\n",
    "print(common_prefix)   "
   ]
  },
  {
   "cell_type": "markdown",
   "id": "f2bd53db",
   "metadata": {},
   "source": [
    "35. Write a program to check if a given number is a perfect square."
   ]
  },
  {
   "cell_type": "code",
   "execution_count": 36,
   "id": "1058e01e",
   "metadata": {},
   "outputs": [
    {
     "name": "stdout",
     "output_type": "stream",
     "text": [
      "True\n"
     ]
    }
   ],
   "source": [
    "def is_perfect_square(n):\n",
    "    if n < 0:\n",
    "        return False\n",
    "    root = int(n**0.5)\n",
    "    return root * root == n\n",
    "\n",
    "\n",
    "number = 16\n",
    "print(is_perfect_square(number)) "
   ]
  },
  {
   "cell_type": "markdown",
   "id": "d3161ca3",
   "metadata": {},
   "source": [
    "36. Implement a function to calculate the product of all elements in a list."
   ]
  },
  {
   "cell_type": "code",
   "execution_count": 37,
   "id": "cec01b6f",
   "metadata": {},
   "outputs": [
    {
     "name": "stdout",
     "output_type": "stream",
     "text": [
      "120\n"
     ]
    }
   ],
   "source": [
    "from functools import reduce\n",
    "import operator\n",
    "\n",
    "def product_of_numbers(lst):\n",
    "    return reduce(operator.mul, lst, 1)\n",
    "\n",
    "\n",
    "lst = [1, 2, 3, 4, 5]\n",
    "product = product_of_numbers(lst)\n",
    "print(product)   "
   ]
  },
  {
   "cell_type": "markdown",
   "id": "2fb78746",
   "metadata": {},
   "source": [
    "37. Write a Python program to reverse the order of words in a sentence while preserving the word order."
   ]
  },
  {
   "cell_type": "code",
   "execution_count": 38,
   "id": "34b88d60",
   "metadata": {},
   "outputs": [
    {
     "name": "stdout",
     "output_type": "stream",
     "text": [
      "Python. am I World! Hello,\n"
     ]
    }
   ],
   "source": [
    "def reverse_words(sentence):\n",
    "    words = sentence.split()\n",
    "    reversed_words = words[::-1]\n",
    "    reversed_sentence = ' '.join(reversed_words)\n",
    "    return reversed_sentence\n",
    "\n",
    "\n",
    "sentence = \"Hello, World! I am Python.\"\n",
    "reversed_sentence = reverse_words(sentence)\n",
    "print(reversed_sentence)  "
   ]
  },
  {
   "cell_type": "markdown",
   "id": "a298266d",
   "metadata": {},
   "source": [
    "38. Implement a function to find the missing number in a given list of consecutive numbers."
   ]
  },
  {
   "cell_type": "code",
   "execution_count": 39,
   "id": "d013d55c",
   "metadata": {},
   "outputs": [
    {
     "name": "stdout",
     "output_type": "stream",
     "text": [
      "4\n"
     ]
    }
   ],
   "source": [
    "def find_missing_number(lst):\n",
    "    n = len(lst) + 1\n",
    "    total_sum = (n * (n + 1)) // 2\n",
    "    actual_sum = sum(lst)\n",
    "    missing_number = total_sum - actual_sum\n",
    "    return missing_number\n",
    "\n",
    "\n",
    "lst = [1, 2, 3, 5, 6]\n",
    "missing_number = find_missing_number(lst)\n",
    "print(missing_number)  "
   ]
  },
  {
   "cell_type": "markdown",
   "id": "62caf0a8",
   "metadata": {},
   "source": [
    "39. Write a program to find the sum of digits of a given number."
   ]
  },
  {
   "cell_type": "code",
   "execution_count": 40,
   "id": "b24fc5c9",
   "metadata": {},
   "outputs": [
    {
     "name": "stdout",
     "output_type": "stream",
     "text": [
      "15\n"
     ]
    }
   ],
   "source": [
    "def sum_of_digits(n):\n",
    "    return sum(int(digit) for digit in str(n))\n",
    "\n",
    "\n",
    "number = 12345\n",
    "digit_sum = sum_of_digits(number)\n",
    "print(digit_sum)  "
   ]
  },
  {
   "cell_type": "markdown",
   "id": "44119fb1",
   "metadata": {},
   "source": [
    "40. Implement a function to check if a given string is a valid palindrome considering case sensitivity."
   ]
  },
  {
   "cell_type": "code",
   "execution_count": 41,
   "id": "f62241cf",
   "metadata": {},
   "outputs": [
    {
     "name": "stdout",
     "output_type": "stream",
     "text": [
      "False\n"
     ]
    }
   ],
   "source": [
    "def is_valid_palindrome(string):\n",
    "    return string == string[::-1]\n",
    "\n",
    "\n",
    "string = \"Madam\"\n",
    "print(is_valid_palindrome(string))  "
   ]
  },
  {
   "cell_type": "markdown",
   "id": "69a0201e",
   "metadata": {},
   "source": [
    "41. Write a Python program to find the smallest missing positive integer in a list."
   ]
  },
  {
   "cell_type": "code",
   "execution_count": 42,
   "id": "a31cd948",
   "metadata": {},
   "outputs": [
    {
     "name": "stdout",
     "output_type": "stream",
     "text": [
      "2\n"
     ]
    }
   ],
   "source": [
    "def find_smallest_missing_positive(lst):\n",
    "    n = len(lst)\n",
    "    for i in range(n):\n",
    "        while 0 < lst[i] <= n and lst[lst[i] - 1] != lst[i]:\n",
    "            lst[lst[i] - 1], lst[i] = lst[i], lst[lst[i] - 1]\n",
    "    for i in range(n):\n",
    "        if lst[i] != i + 1:\n",
    "            return i + 1\n",
    "    return n + 1\n",
    "\n",
    "\n",
    "lst = [3, 4, -1, 1]\n",
    "smallest_missing = find_smallest_missing_positive(lst)\n",
    "print(smallest_missing) "
   ]
  },
  {
   "cell_type": "markdown",
   "id": "f1f2021e",
   "metadata": {},
   "source": [
    "42. Implement a function to find the longest palindrome substring in a given string."
   ]
  },
  {
   "cell_type": "code",
   "execution_count": 43,
   "id": "bd5f67f2",
   "metadata": {},
   "outputs": [
    {
     "name": "stdout",
     "output_type": "stream",
     "text": [
      "bab\n"
     ]
    }
   ],
   "source": [
    "def longest_palindrome_substring(string):\n",
    "    def expand_around_center(left, right):\n",
    "        while left >= 0 and right < len(string) and string[left] == string[right]:\n",
    "            left -= 1\n",
    "            right += 1\n",
    "        return string[left + 1:right]\n",
    "\n",
    "    longest = \"\"\n",
    "    for i in range(len(string)):\n",
    "        palindrome_odd = expand_around_center(i, i)\n",
    "        if len(palindrome_odd) > len(longest):\n",
    "            longest = palindrome_odd\n",
    "        palindrome_even = expand_around_center(i, i + 1)\n",
    "        if len(palindrome_even) > len(longest):\n",
    "            longest = palindrome_even\n",
    "    return longest\n",
    "\n",
    "\n",
    "string = \"babad\"\n",
    "longest_palindrome = longest_palindrome_substring(string)\n",
    "print(longest_palindrome)   "
   ]
  },
  {
   "cell_type": "markdown",
   "id": "df436a01",
   "metadata": {},
   "source": [
    "43. Write a program to find the number of occurrences of a given element in a list."
   ]
  },
  {
   "cell_type": "code",
   "execution_count": 44,
   "id": "7eb9b276",
   "metadata": {},
   "outputs": [
    {
     "name": "stdout",
     "output_type": "stream",
     "text": [
      "3\n"
     ]
    }
   ],
   "source": [
    "def count_occurrences(lst, element):\n",
    "    return lst.count(element)\n",
    "\n",
    "\n",
    "lst = [1, 2, 3, 2, 1, 3, 4, 2, 5]\n",
    "element = 2\n",
    "occurrences = count_occurrences(lst, element)\n",
    "print(occurrences)  "
   ]
  },
  {
   "cell_type": "markdown",
   "id": "68bc599e",
   "metadata": {},
   "source": [
    "44. Implement a function to check if a given number is a perfect number."
   ]
  },
  {
   "cell_type": "code",
   "execution_count": 45,
   "id": "d104eeac",
   "metadata": {},
   "outputs": [
    {
     "name": "stdout",
     "output_type": "stream",
     "text": [
      "True\n"
     ]
    }
   ],
   "source": [
    "def is_perfect_number(n):\n",
    "    if n <= 0:\n",
    "        return False\n",
    "    divisors = [1]\n",
    "    for i in range(2, int(n**0.5) + 1):\n",
    "        if n % i == 0:\n",
    "            divisors.extend([i, n // i])\n",
    "    return sum(divisors) == n\n",
    "\n",
    "\n",
    "number = 28\n",
    "print(is_perfect_number(number))  "
   ]
  },
  {
   "cell_type": "markdown",
   "id": "1f59cd60",
   "metadata": {},
   "source": [
    "45. Write a Python program to remove all duplicates from a string."
   ]
  },
  {
   "cell_type": "code",
   "execution_count": 46,
   "id": "b70f3f4c",
   "metadata": {},
   "outputs": [
    {
     "name": "stdout",
     "output_type": "stream",
     "text": [
      "HWe!l rdo,\n"
     ]
    }
   ],
   "source": [
    "def remove_duplicates(string):\n",
    "    return ''.join(set(string))\n",
    "\n",
    "\n",
    "string = \"Hello, World!\"\n",
    "new_string = remove_duplicates(string)\n",
    "print(new_string) "
   ]
  },
  {
   "cell_type": "markdown",
   "id": "976b2b40",
   "metadata": {},
   "source": [
    "46. Implement a function to find the first missing positive"
   ]
  },
  {
   "cell_type": "code",
   "execution_count": 47,
   "id": "cb465b0b",
   "metadata": {},
   "outputs": [
    {
     "name": "stdout",
     "output_type": "stream",
     "text": [
      "2\n"
     ]
    }
   ],
   "source": [
    "def find_first_missing_positive(lst):\n",
    "    n = len(lst)\n",
    "    for i in range(n):\n",
    "        while 1 <= lst[i] <= n and lst[lst[i] - 1] != lst[i]:\n",
    "            lst[lst[i] - 1], lst[i] = lst[i], lst[lst[i] - 1]\n",
    "    for i in range(n):\n",
    "        if lst[i] != i + 1:\n",
    "            return i + 1\n",
    "    return n + 1\n",
    "\n",
    "\n",
    "lst = [3, 4, -1, 1]\n",
    "first_missing = find_first_missing_positive(lst)\n",
    "print(first_missing) "
   ]
  }
 ],
 "metadata": {
  "kernelspec": {
   "display_name": "dummyvenv",
   "language": "python",
   "name": "dummyvenv"
  },
  "language_info": {
   "codemirror_mode": {
    "name": "ipython",
    "version": 3
   },
   "file_extension": ".py",
   "mimetype": "text/x-python",
   "name": "python",
   "nbconvert_exporter": "python",
   "pygments_lexer": "ipython3",
   "version": "3.10.2"
  }
 },
 "nbformat": 4,
 "nbformat_minor": 5
}
